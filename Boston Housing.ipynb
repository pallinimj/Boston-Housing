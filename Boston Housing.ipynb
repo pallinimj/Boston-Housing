{
 "cells": [
  {
   "cell_type": "markdown",
   "metadata": {},
   "source": [
    "# Starter Code"
   ]
  },
  {
   "cell_type": "code",
   "execution_count": 1,
   "metadata": {},
   "outputs": [],
   "source": [
    "# although we standardize X and y variables on input,\n",
    "# we will fit the intercept term in the models\n",
    "# Expect fitted values to be close to zero\n",
    "SET_FIT_INTERCEPT = True\n",
    "\n",
    "# import base packages into the namespace for this program\n",
    "import numpy as np\n",
    "import pandas as pd"
   ]
  },
  {
   "cell_type": "code",
   "execution_count": 2,
   "metadata": {},
   "outputs": [],
   "source": [
    "# modeling routines from Scikit Learn packages\n",
    "import sklearn.linear_model \n",
    "from sklearn.linear_model import LinearRegression, Ridge, Lasso, ElasticNet\n",
    "from sklearn.metrics import mean_squared_error, r2_score  \n",
    "from math import sqrt  # for root mean-squared error calculation\n",
    "from sklearn.model_selection import cross_val_score, cross_val_predict, train_test_split"
   ]
  },
  {
   "cell_type": "code",
   "execution_count": 3,
   "metadata": {},
   "outputs": [],
   "source": [
    "# read data for the Boston Housing Study\n",
    "# creating data frame restdata\n",
    "boston_input = pd.read_csv('boston.csv')"
   ]
  },
  {
   "cell_type": "code",
   "execution_count": 4,
   "metadata": {},
   "outputs": [
    {
     "name": "stdout",
     "output_type": "stream",
     "text": [
      "\n",
      "boston DataFrame (first and last five rows):\n",
      "  neighborhood     crim    zn  indus  chas    nox  rooms   age     dis  rad  \\\n",
      "0       Nahant  0.00632  18.0   2.31     0  0.538  6.575  65.2  4.0900    1   \n",
      "1   Swampscott  0.02731   0.0   7.07     0  0.469  6.421  78.9  4.9671    2   \n",
      "2   Swanpscott  0.02729   0.0   7.07     0  0.469  7.185  61.1  4.9671    2   \n",
      "3   Marblehead  0.03237   0.0   2.18     0  0.458  6.998  45.8  6.0622    3   \n",
      "4   Marblehead  0.06905   0.0   2.18     0  0.458  7.147  54.2  6.0622    3   \n",
      "\n",
      "   tax  ptratio  lstat    mv  \n",
      "0  296     15.3   4.98  24.0  \n",
      "1  242     17.8   9.14  21.6  \n",
      "2  242     17.8   4.03  34.7  \n",
      "3  222     18.7   2.94  33.4  \n",
      "4  222     18.7   5.33  36.2  \n",
      "    neighborhood     crim   zn  indus  chas    nox  rooms   age     dis  rad  \\\n",
      "501     Winthrop  0.06263  0.0  11.93     0  0.573  6.593  69.1  2.4786    1   \n",
      "502     Winthrop  0.04527  0.0  11.93     0  0.573  6.120  76.7  2.2875    1   \n",
      "503     Winthrop  0.06076  0.0  11.93     0  0.573  6.976  91.0  2.1675    1   \n",
      "504     Winthrop  0.10959  0.0  11.93     0  0.573  6.794  89.3  2.3889    1   \n",
      "505     Winthrop  0.04741  0.0  11.93     0  0.573  6.030  80.8  2.5050    1   \n",
      "\n",
      "     tax  ptratio  lstat    mv  \n",
      "501  273     21.0   9.67  22.4  \n",
      "502  273     21.0   9.08  20.6  \n",
      "503  273     21.0   5.64  23.9  \n",
      "504  273     21.0   6.48  22.0  \n",
      "505  273     21.0   7.88  19.0  \n",
      "\n",
      "General description of the boston_input DataFrame:\n",
      "<class 'pandas.core.frame.DataFrame'>\n",
      "RangeIndex: 506 entries, 0 to 505\n",
      "Data columns (total 14 columns):\n",
      "neighborhood    506 non-null object\n",
      "crim            506 non-null float64\n",
      "zn              506 non-null float64\n",
      "indus           506 non-null float64\n",
      "chas            506 non-null int64\n",
      "nox             506 non-null float64\n",
      "rooms           506 non-null float64\n",
      "age             506 non-null float64\n",
      "dis             506 non-null float64\n",
      "rad             506 non-null int64\n",
      "tax             506 non-null int64\n",
      "ptratio         506 non-null float64\n",
      "lstat           506 non-null float64\n",
      "mv              506 non-null float64\n",
      "dtypes: float64(10), int64(3), object(1)\n",
      "memory usage: 55.4+ KB\n",
      "None\n"
     ]
    }
   ],
   "source": [
    "# check the pandas DataFrame object boston_input\n",
    "print('\\nboston DataFrame (first and last five rows):')\n",
    "print(boston_input.head())\n",
    "print(boston_input.tail())\n",
    "\n",
    "print('\\nGeneral description of the boston_input DataFrame:')\n",
    "print(boston_input.info())"
   ]
  },
  {
   "cell_type": "code",
   "execution_count": 5,
   "metadata": {},
   "outputs": [
    {
     "name": "stdout",
     "output_type": "stream",
     "text": [
      "\n",
      "General description of the boston DataFrame:\n",
      "<class 'pandas.core.frame.DataFrame'>\n",
      "RangeIndex: 506 entries, 0 to 505\n",
      "Data columns (total 13 columns):\n",
      "crim       506 non-null float64\n",
      "zn         506 non-null float64\n",
      "indus      506 non-null float64\n",
      "chas       506 non-null int64\n",
      "nox        506 non-null float64\n",
      "rooms      506 non-null float64\n",
      "age        506 non-null float64\n",
      "dis        506 non-null float64\n",
      "rad        506 non-null int64\n",
      "tax        506 non-null int64\n",
      "ptratio    506 non-null float64\n",
      "lstat      506 non-null float64\n",
      "mv         506 non-null float64\n",
      "dtypes: float64(10), int64(3)\n",
      "memory usage: 51.5 KB\n",
      "None\n",
      "\n",
      "Descriptive statistics of the boston DataFrame:\n",
      "             crim          zn       indus        chas         nox       rooms  \\\n",
      "count  506.000000  506.000000  506.000000  506.000000  506.000000  506.000000   \n",
      "mean     3.613524   11.363636   11.136779    0.069170    0.554695    6.284634   \n",
      "std      8.601545   23.322453    6.860353    0.253994    0.115878    0.702617   \n",
      "min      0.006320    0.000000    0.460000    0.000000    0.385000    3.561000   \n",
      "25%      0.082045    0.000000    5.190000    0.000000    0.449000    5.885500   \n",
      "50%      0.256510    0.000000    9.690000    0.000000    0.538000    6.208500   \n",
      "75%      3.677082   12.500000   18.100000    0.000000    0.624000    6.623500   \n",
      "max     88.976200  100.000000   27.740000    1.000000    0.871000    8.780000   \n",
      "\n",
      "              age         dis         rad         tax     ptratio       lstat  \\\n",
      "count  506.000000  506.000000  506.000000  506.000000  506.000000  506.000000   \n",
      "mean    68.574901    3.795043    9.549407  408.237154   18.455534   12.653063   \n",
      "std     28.148861    2.105710    8.707259  168.537116    2.164946    7.141062   \n",
      "min      2.900000    1.129600    1.000000  187.000000   12.600000    1.730000   \n",
      "25%     45.025000    2.100175    4.000000  279.000000   17.400000    6.950000   \n",
      "50%     77.500000    3.207450    5.000000  330.000000   19.050000   11.360000   \n",
      "75%     94.075000    5.188425   24.000000  666.000000   20.200000   16.955000   \n",
      "max    100.000000   12.126500   24.000000  711.000000   22.000000   37.970000   \n",
      "\n",
      "               mv  \n",
      "count  506.000000  \n",
      "mean    22.528854  \n",
      "std      9.182176  \n",
      "min      5.000000  \n",
      "25%     17.025000  \n",
      "50%     21.200000  \n",
      "75%     25.000000  \n",
      "max     50.000000  \n"
     ]
    }
   ],
   "source": [
    "# drop neighborhood from the data being considered\n",
    "boston = boston_input.drop('neighborhood', 1)\n",
    "print('\\nGeneral description of the boston DataFrame:')\n",
    "print(boston.info())\n",
    "\n",
    "print('\\nDescriptive statistics of the boston DataFrame:')\n",
    "print(boston.describe())\n"
   ]
  },
  {
   "cell_type": "code",
   "execution_count": 6,
   "metadata": {},
   "outputs": [
    {
     "name": "stdout",
     "output_type": "stream",
     "text": [
      "\n",
      "Data dimensions: (506, 13)\n"
     ]
    }
   ],
   "source": [
    "# set up preliminary data for data for fitting the models \n",
    "# the first column is the median housing value response\n",
    "# the remaining columns are the explanatory variables\n",
    "prelim_model_data = np.array([boston.mv,\\\n",
    "    boston.crim,\\\n",
    "    boston.zn,\\\n",
    "    boston.indus,\\\n",
    "    boston.chas,\\\n",
    "    boston.nox,\\\n",
    "    boston.rooms,\\\n",
    "    boston.age,\\\n",
    "    boston.dis,\\\n",
    "    boston.rad,\\\n",
    "    boston.tax,\\\n",
    "    boston.ptratio,\\\n",
    "    boston.lstat]).T\n",
    "\n",
    "# dimensions of the polynomial model X input and y response\n",
    "# preliminary data before standardization\n",
    "print('\\nData dimensions:', prelim_model_data.shape)"
   ]
  },
  {
   "cell_type": "code",
   "execution_count": 7,
   "metadata": {},
   "outputs": [
    {
     "name": "stdout",
     "output_type": "stream",
     "text": [
      "StandardScaler(copy=True, with_mean=True, with_std=True)\n",
      "[2.25288538e+01 3.61352356e+00 1.13636364e+01 1.11367787e+01\n",
      " 6.91699605e-02 5.54695059e-01 6.28463439e+00 6.85749012e+01\n",
      " 3.79504269e+00 9.54940711e+00 4.08237154e+02 1.84555336e+01\n",
      " 1.26530632e+01]\n",
      "[9.17309810e+00 8.59304135e+00 2.32993957e+01 6.85357058e+00\n",
      " 2.53742935e-01 1.15763115e-01 7.01922514e-01 2.81210326e+01\n",
      " 2.10362836e+00 8.69865112e+00 1.68370495e+02 2.16280519e+00\n",
      " 7.13400164e+00]\n"
     ]
    }
   ],
   "source": [
    "# standard scores for the columns... along axis 0\n",
    "from sklearn.preprocessing import StandardScaler\n",
    "scaler = StandardScaler()\n",
    "print(scaler.fit(prelim_model_data))\n",
    "# show standardization constants being employed\n",
    "print(scaler.mean_)\n",
    "print(scaler.scale_)"
   ]
  },
  {
   "cell_type": "code",
   "execution_count": 8,
   "metadata": {},
   "outputs": [
    {
     "name": "stdout",
     "output_type": "stream",
     "text": [
      "\n",
      "Dimensions for model_data: (506, 13)\n"
     ]
    }
   ],
   "source": [
    "# the model data will be standardized form of preliminary model data\n",
    "model_data = scaler.fit_transform(prelim_model_data)\n",
    "\n",
    "# dimensions of the polynomial model X input and y response\n",
    "# all in standardized units of measure\n",
    "print('\\nDimensions for model_data:', model_data.shape)"
   ]
  },
  {
   "cell_type": "markdown",
   "metadata": {},
   "source": [
    "# Data Analysis"
   ]
  },
  {
   "cell_type": "code",
   "execution_count": 9,
   "metadata": {},
   "outputs": [
    {
     "data": {
      "text/html": [
       "<div>\n",
       "<style scoped>\n",
       "    .dataframe tbody tr th:only-of-type {\n",
       "        vertical-align: middle;\n",
       "    }\n",
       "\n",
       "    .dataframe tbody tr th {\n",
       "        vertical-align: top;\n",
       "    }\n",
       "\n",
       "    .dataframe thead th {\n",
       "        text-align: right;\n",
       "    }\n",
       "</style>\n",
       "<table border=\"1\" class=\"dataframe\">\n",
       "  <thead>\n",
       "    <tr style=\"text-align: right;\">\n",
       "      <th></th>\n",
       "      <th>crim</th>\n",
       "      <th>zn</th>\n",
       "      <th>indus</th>\n",
       "      <th>chas</th>\n",
       "      <th>nox</th>\n",
       "      <th>rooms</th>\n",
       "      <th>age</th>\n",
       "      <th>dis</th>\n",
       "      <th>rad</th>\n",
       "      <th>tax</th>\n",
       "      <th>ptratio</th>\n",
       "      <th>lstat</th>\n",
       "      <th>mv</th>\n",
       "    </tr>\n",
       "  </thead>\n",
       "  <tbody>\n",
       "    <tr>\n",
       "      <th>0</th>\n",
       "      <td>0.00632</td>\n",
       "      <td>18.0</td>\n",
       "      <td>2.31</td>\n",
       "      <td>0</td>\n",
       "      <td>0.538</td>\n",
       "      <td>6.575</td>\n",
       "      <td>65.2</td>\n",
       "      <td>4.0900</td>\n",
       "      <td>1</td>\n",
       "      <td>296</td>\n",
       "      <td>15.3</td>\n",
       "      <td>4.98</td>\n",
       "      <td>24.0</td>\n",
       "    </tr>\n",
       "    <tr>\n",
       "      <th>1</th>\n",
       "      <td>0.02731</td>\n",
       "      <td>0.0</td>\n",
       "      <td>7.07</td>\n",
       "      <td>0</td>\n",
       "      <td>0.469</td>\n",
       "      <td>6.421</td>\n",
       "      <td>78.9</td>\n",
       "      <td>4.9671</td>\n",
       "      <td>2</td>\n",
       "      <td>242</td>\n",
       "      <td>17.8</td>\n",
       "      <td>9.14</td>\n",
       "      <td>21.6</td>\n",
       "    </tr>\n",
       "    <tr>\n",
       "      <th>2</th>\n",
       "      <td>0.02729</td>\n",
       "      <td>0.0</td>\n",
       "      <td>7.07</td>\n",
       "      <td>0</td>\n",
       "      <td>0.469</td>\n",
       "      <td>7.185</td>\n",
       "      <td>61.1</td>\n",
       "      <td>4.9671</td>\n",
       "      <td>2</td>\n",
       "      <td>242</td>\n",
       "      <td>17.8</td>\n",
       "      <td>4.03</td>\n",
       "      <td>34.7</td>\n",
       "    </tr>\n",
       "    <tr>\n",
       "      <th>3</th>\n",
       "      <td>0.03237</td>\n",
       "      <td>0.0</td>\n",
       "      <td>2.18</td>\n",
       "      <td>0</td>\n",
       "      <td>0.458</td>\n",
       "      <td>6.998</td>\n",
       "      <td>45.8</td>\n",
       "      <td>6.0622</td>\n",
       "      <td>3</td>\n",
       "      <td>222</td>\n",
       "      <td>18.7</td>\n",
       "      <td>2.94</td>\n",
       "      <td>33.4</td>\n",
       "    </tr>\n",
       "    <tr>\n",
       "      <th>4</th>\n",
       "      <td>0.06905</td>\n",
       "      <td>0.0</td>\n",
       "      <td>2.18</td>\n",
       "      <td>0</td>\n",
       "      <td>0.458</td>\n",
       "      <td>7.147</td>\n",
       "      <td>54.2</td>\n",
       "      <td>6.0622</td>\n",
       "      <td>3</td>\n",
       "      <td>222</td>\n",
       "      <td>18.7</td>\n",
       "      <td>5.33</td>\n",
       "      <td>36.2</td>\n",
       "    </tr>\n",
       "  </tbody>\n",
       "</table>\n",
       "</div>"
      ],
      "text/plain": [
       "      crim    zn  indus  chas    nox  rooms   age     dis  rad  tax  ptratio  \\\n",
       "0  0.00632  18.0   2.31     0  0.538  6.575  65.2  4.0900    1  296     15.3   \n",
       "1  0.02731   0.0   7.07     0  0.469  6.421  78.9  4.9671    2  242     17.8   \n",
       "2  0.02729   0.0   7.07     0  0.469  7.185  61.1  4.9671    2  242     17.8   \n",
       "3  0.03237   0.0   2.18     0  0.458  6.998  45.8  6.0622    3  222     18.7   \n",
       "4  0.06905   0.0   2.18     0  0.458  7.147  54.2  6.0622    3  222     18.7   \n",
       "\n",
       "   lstat    mv  \n",
       "0   4.98  24.0  \n",
       "1   9.14  21.6  \n",
       "2   4.03  34.7  \n",
       "3   2.94  33.4  \n",
       "4   5.33  36.2  "
      ]
     },
     "execution_count": 9,
     "metadata": {},
     "output_type": "execute_result"
    }
   ],
   "source": [
    "#look at original dataframe without neighborhood\n",
    "import matplotlib.pyplot as plt\n",
    "import seaborn as sns\n",
    "\n",
    "boston.head()"
   ]
  },
  {
   "cell_type": "code",
   "execution_count": 10,
   "metadata": {},
   "outputs": [
    {
     "data": {
      "text/plain": [
       "crim       0\n",
       "zn         0\n",
       "indus      0\n",
       "chas       0\n",
       "nox        0\n",
       "rooms      0\n",
       "age        0\n",
       "dis        0\n",
       "rad        0\n",
       "tax        0\n",
       "ptratio    0\n",
       "lstat      0\n",
       "mv         0\n",
       "dtype: int64"
      ]
     },
     "execution_count": 10,
     "metadata": {},
     "output_type": "execute_result"
    }
   ],
   "source": [
    "boston.isna().sum()"
   ]
  },
  {
   "cell_type": "code",
   "execution_count": 32,
   "metadata": {},
   "outputs": [
    {
     "data": {
      "image/png": "[encoded data removed]",
      "text/plain": [
       "<Figure size 432x288 with 1 Axes>"
      ]
     },
     "metadata": {
      "needs_background": "light"
     },
     "output_type": "display_data"
    }
   ],
   "source": [
    "#median value distribution\n",
    "boston['mv'].plot.hist(bins = 50)\n",
    "plt.title('Median value distribution')\n",
    "plt.savefig('Median Value Distribution.pdf', \n",
    "    bbox_inches = 'tight', dpi=None, facecolor='w', edgecolor='b', \n",
    "    orientation='portrait', papertype=None, format=None, \n",
    "    transparent=True, pad_inches=0.25, frameon=None)\n",
    "plt.show()"
   ]
  },
  {
   "cell_type": "code",
   "execution_count": 31,
   "metadata": {},
   "outputs": [
    {
     "data": {
      "image/png": "[encoded data removed]",
      "text/plain": [
       "<Figure size 432x288 with 1 Axes>"
      ]
     },
     "metadata": {
      "needs_background": "light"
     },
     "output_type": "display_data"
    }
   ],
   "source": [
    "#does being by the river matter?\n",
    "sns.boxplot(x='mv',y='chas',data = boston, orient = 'h')\n",
    "plt.title('Charles River vs Median Value')\n",
    "plt.savefig('Charles River vs Median Value.pdf', \n",
    "    bbox_inches = 'tight', dpi=None, facecolor='w', edgecolor='b', \n",
    "    orientation='portrait', papertype=None, format=None, \n",
    "    transparent=True, pad_inches=0.25, frameon=None)\n",
    "plt.show()"
   ]
  },
  {
   "cell_type": "code",
   "execution_count": 30,
   "metadata": {},
   "outputs": [
    {
     "data": {
      "image/png": "[encoded data removed]",
      "text/plain": [
       "<Figure size 432x288 with 1 Axes>"
      ]
     },
     "metadata": {
      "needs_background": "light"
     },
     "output_type": "display_data"
    }
   ],
   "source": [
    "#compare median value to age\n",
    "sns.regplot(x='age', y='mv', data = boston)\n",
    "plt.title('Age vs Median Value')\n",
    "plt.savefig('Age vs Median Value.pdf', \n",
    "    bbox_inches = 'tight', dpi=None, facecolor='w', edgecolor='b', \n",
    "    orientation='portrait', papertype=None, format=None, \n",
    "    transparent=True, pad_inches=0.25, frameon=None)\n",
    "plt.show()"
   ]
  },
  {
   "cell_type": "markdown",
   "metadata": {},
   "source": [
    "# Build Model Basics"
   ]
  },
  {
   "cell_type": "code",
   "execution_count": 14,
   "metadata": {},
   "outputs": [],
   "source": [
    "#define X and y\n",
    "X = prelim_model_data[:,1:13]\n",
    "y = prelim_model_data[:,:1]\n",
    "\n",
    "Xs = model_data[:,1:13]\n",
    "ys = model_data[:,:1]\n",
    "\n",
    "# seed value for random number generators to obtain reproducible results\n",
    "RANDOM_SEED = 42\n",
    "\n",
    "#train test split\n",
    "\n",
    "X_train, X_test, y_train, y_test = train_test_split(X, y, test_size = 0.2, random_state = RANDOM_SEED)\n",
    "Xs_train, Xs_test, ys_train, ys_test = train_test_split(Xs, ys, test_size = 0.2, random_state = RANDOM_SEED)"
   ]
  },
  {
   "cell_type": "code",
   "execution_count": 36,
   "metadata": {},
   "outputs": [],
   "source": [
    "#Cross validation function\n",
    "#a, b are start and end of range for # of folds\n",
    "#x, y are the data\n",
    "def crossval(model, x, y, a, b):\n",
    "    for i in range(a,b):\n",
    "        validate = cross_val_score(model, x, y, cv = i)\n",
    "        print(validate)\n",
    "      \n",
    "\n",
    "#learning curves\n",
    "def learning_curve(model, X, y):\n",
    "    X_train, X_val, y_train, y_val = train_test_split(X, y, test_size=0.2, random_state=RANDOM_SEED)\n",
    "    train_errors, val_errors = [], []\n",
    "    for m in range(1, len(X_train)):\n",
    "        model.fit(X_train[:m], y_train[:m])\n",
    "        y_train_predict = model.predict(X_train[:m])\n",
    "        y_val_predict = model.predict(X_val)\n",
    "        train_errors.append(mean_squared_error(y_train[:m], y_train_predict))\n",
    "        val_errors.append(mean_squared_error(y_val, y_val_predict))\n",
    "\n",
    "    plt.plot(np.sqrt(train_errors), \"r-+\", linewidth=2, label=\"train\")\n",
    "    plt.plot(np.sqrt(val_errors), \"b-\", linewidth=3, label=\"val\")\n",
    "    plt.legend(loc=\"upper right\", fontsize=14)   # not shown in the book\n",
    "    plt.xlabel(\"Training set size\", fontsize=14) # not shown\n",
    "    plt.ylabel(\"RMSE\", fontsize=14)              # not shown\n",
    "    \n",
    "\n",
    "def prediction (model, X, y): #x and y values are test data sets\n",
    "    predict = model.predict(X)\n",
    "    mse = mean_squared_error(y, predict)\n",
    "    rmse = sqrt(mse)\n",
    "    print('MSE: {:.3f}'.format(mse))\n",
    "    print('RMSE: {:.3f}'.format(rmse))"
   ]
  },
  {
   "cell_type": "markdown",
   "metadata": {},
   "source": [
    "# Linear Regression"
   ]
  },
  {
   "cell_type": "code",
   "execution_count": 16,
   "metadata": {},
   "outputs": [
    {
     "name": "stdout",
     "output_type": "stream",
     "text": [
      "Training set R-squared: 0.742\n",
      "Test set R-squared: 0.714\n"
     ]
    }
   ],
   "source": [
    "lr = LinearRegression()\n",
    "\n",
    "lr.fit(X,y)\n",
    "\n",
    "print('Training set R-squared: {:.3f}'.format(lr.score(X_train, y_train)))\n",
    "print('Test set R-squared: {:.3f}'.format(lr.score(X_test, y_test)))"
   ]
  },
  {
   "cell_type": "code",
   "execution_count": 37,
   "metadata": {},
   "outputs": [
    {
     "data": {
      "image/png": "[encoded data removed]",
      "text/plain": [
       "<Figure size 432x288 with 1 Axes>"
      ]
     },
     "metadata": {
      "needs_background": "light"
     },
     "output_type": "display_data"
    }
   ],
   "source": [
    "learning_curve(lr, X, y)\n",
    "plt.title('Linear Regression Learning Curve')\n",
    "plt.savefig('Linear Rgression Learning Curve.pdf', \n",
    "    bbox_inches = 'tight', dpi=None, facecolor='w', edgecolor='b', \n",
    "    orientation='portrait', papertype=None, format=None, \n",
    "    transparent=True, pad_inches=0.25, frameon=None)\n",
    "plt.show()"
   ]
  },
  {
   "cell_type": "code",
   "execution_count": 18,
   "metadata": {},
   "outputs": [
    {
     "name": "stdout",
     "output_type": "stream",
     "text": [
      "[0.72136089 0.75176196 0.70230126]\n",
      "[0.73117127 0.69207728 0.77736846 0.68873872]\n",
      "[0.76424889 0.62562764 0.76660305 0.78332004 0.66975619]\n",
      "[0.77449261 0.60577781 0.78085782 0.7771276  0.72271162 0.67392423]\n",
      "[0.773094   0.71062793 0.58497927 0.75326308 0.79047    0.7204736\n",
      " 0.61376976]\n",
      "[0.76030826 0.7194221  0.59197673 0.7928533  0.7592457  0.79266005\n",
      " 0.73614334 0.59641211]\n",
      "[0.73429739 0.7282858  0.68564304 0.61826543 0.71584417 0.80161703\n",
      " 0.74771845 0.73168173 0.57941989]\n",
      "[0.7544646  0.7913731  0.74038292 0.33179797 0.78852831 0.73320392\n",
      " 0.82777123 0.67359915 0.76494136 0.54870555]\n",
      "[0.77768599 0.79586397 0.7062323  0.49801074 0.77535547 0.77553761\n",
      " 0.77056123 0.78269365 0.72900181 0.76682491 0.55804641]\n",
      "[0.7677332  0.80612832 0.65516575 0.54269118 0.72695446 0.79002984\n",
      " 0.72991567 0.81469611 0.75675726 0.68961608 0.80096434 0.55580485]\n",
      "[0.81459369 0.71732286 0.70250955 0.78203735 0.18515147 0.77442211\n",
      " 0.82160772 0.64273663 0.82246815 0.57181663 0.72291338 0.77137896\n",
      " 0.56638864]\n",
      "[0.81930298 0.73141101 0.64926891 0.77929188 0.43160571 0.79370327\n",
      " 0.7769426  0.72861564 0.78911237 0.80070593 0.69838095 0.74938812\n",
      " 0.71990509 0.54749309]\n"
     ]
    }
   ],
   "source": [
    "#Cross validation function\n",
    "#a, b are start and end of range for # of folds\n",
    "#x, y are the data\n",
    "def crossval(model, x, y, a, b):\n",
    "    for i in range(a,b):\n",
    "        validate = cross_val_score(model, x, y, cv = i)\n",
    "        print(validate)\n",
    "\n",
    "#look at cross validation scores for different numbers of folds\n",
    "crossval(lr, X_train, y_train, 3, 15) \n"
   ]
  },
  {
   "cell_type": "code",
   "execution_count": 21,
   "metadata": {},
   "outputs": [
    {
     "name": "stdout",
     "output_type": "stream",
     "text": [
      "Raw data predictions:\n",
      "MSE: 22.976\n",
      "RMSE: 4.793\n",
      " \n",
      "Standard Scale predictions:\n",
      "MSE: 1662.783\n",
      "RMSE: 40.777\n"
     ]
    }
   ],
   "source": [
    "print('Raw data predictions:')\n",
    "prediction(lr, X_test, y_test)\n",
    "\n",
    "print(' ')\n",
    "\n",
    "print('Standard Scale predictions:')\n",
    "prediction(lr, Xs_test, ys_test)"
   ]
  },
  {
   "cell_type": "markdown",
   "metadata": {},
   "source": [
    "# Ridge Regression"
   ]
  },
  {
   "cell_type": "code",
   "execution_count": 22,
   "metadata": {},
   "outputs": [
    {
     "name": "stdout",
     "output_type": "stream",
     "text": [
      "Training set R-squared: 0.742\n",
      "Test set R-squared: 0.685\n"
     ]
    }
   ],
   "source": [
    "#fit Ridge model\n",
    "\n",
    "r = Ridge()\n",
    "\n",
    "r.fit(X_train, y_train)\n",
    "print('Training set R-squared: {:.3f}'.format(r.score(X_train, y_train)))\n",
    "print('Test set R-squared: {:.3f}'.format(r.score(X_test, y_test)))"
   ]
  },
  {
   "cell_type": "code",
   "execution_count": 23,
   "metadata": {},
   "outputs": [],
   "source": [
    "#test different alpha values\n",
    "\n",
    "alpha = [10, 1, .1, .01, .001]\n",
    "ridge_train = []\n",
    "for i in alpha:\n",
    "    t = Ridge(alpha = i).fit(X_train, y_train)\n",
    "    t_score = t.score(X_train, y_train)\n",
    "    ridge_train.append(t_score)\n",
    "    "
   ]
  },
  {
   "cell_type": "code",
   "execution_count": 24,
   "metadata": {},
   "outputs": [
    {
     "data": {
      "text/plain": [
       "[0.7347155757213986,\n",
       " 0.7423798478893033,\n",
       " 0.7446115674256046,\n",
       " 0.7446743028493684,\n",
       " 0.7446750236478235]"
      ]
     },
     "execution_count": 24,
     "metadata": {},
     "output_type": "execute_result"
    }
   ],
   "source": [
    "ridge_train"
   ]
  },
  {
   "cell_type": "code",
   "execution_count": 39,
   "metadata": {},
   "outputs": [
    {
     "name": "stdout",
     "output_type": "stream",
     "text": [
      "Training set R-squared: 0.735\n",
      "Test set R-squared: 0.681\n"
     ]
    }
   ],
   "source": [
    "#produce new r-square values with updated alpha\n",
    "#slight improvement on r-square\n",
    "r = Ridge(alpha = 10)\n",
    "r.fit(X_train, y_train)\n",
    "\n",
    "print('Training set R-squared: {:.3f}'.format(r.score(X_train, y_train)))\n",
    "print('Test set R-squared: {:.3f}'.format(r.score(X_test, y_test)))"
   ]
  },
  {
   "cell_type": "code",
   "execution_count": 38,
   "metadata": {},
   "outputs": [
    {
     "data": {
      "image/png": "[encoded data removed]",
      "text/plain": [
       "<Figure size 432x288 with 1 Axes>"
      ]
     },
     "metadata": {
      "needs_background": "light"
     },
     "output_type": "display_data"
    }
   ],
   "source": [
    "learning_curve(r, X, y)\n",
    "plt.title('Ridge Regression Learning Curve')\n",
    "plt.savefig('Ridge Regression Learning Curve.pdf', \n",
    "    bbox_inches = 'tight', dpi=None, facecolor='w', edgecolor='b', \n",
    "    orientation='portrait', papertype=None, format=None, \n",
    "    transparent=True, pad_inches=0.25, frameon=None)\n",
    "plt.show()"
   ]
  },
  {
   "cell_type": "code",
   "execution_count": 27,
   "metadata": {},
   "outputs": [
    {
     "name": "stdout",
     "output_type": "stream",
     "text": [
      "[0.72005779 0.7537159  0.7010662 ]\n",
      "[0.72909593 0.69349127 0.77716475 0.68828449]\n",
      "[0.76282031 0.62534534 0.76720086 0.78343563 0.66926394]\n",
      "[0.77321343 0.60455865 0.78420181 0.7774388  0.72145577 0.67372911]\n",
      "[0.77141508 0.70998977 0.58625998 0.75266452 0.79182037 0.71984213\n",
      " 0.61358627]\n",
      "[0.75806063 0.71883658 0.59156153 0.79530985 0.75871227 0.79291439\n",
      " 0.73525387 0.59619658]\n",
      "[0.73200022 0.72733375 0.68552548 0.62295752 0.71440429 0.80298556\n",
      " 0.74712602 0.73002872 0.57933492]\n",
      "[0.75308065 0.79044895 0.74053231 0.33128615 0.7906178  0.73233547\n",
      " 0.82846444 0.67328009 0.76345983 0.54891443]\n",
      "[0.77586602 0.79514433 0.70542375 0.49732459 0.78191245 0.77449546\n",
      " 0.77107817 0.78291122 0.72798529 0.76582206 0.55840629]\n",
      "[0.76597799 0.80607581 0.65367995 0.5418308  0.73286641 0.79090584\n",
      " 0.7286229  0.81648827 0.75548031 0.68854565 0.80043623 0.55578785]\n",
      "[0.8109316  0.71899949 0.70160994 0.78326845 0.18304001 0.78103284\n",
      " 0.82103616 0.64160783 0.82293745 0.57350895 0.72137787 0.77069644\n",
      " 0.5661386 ]\n",
      "[0.81557192 0.73396065 0.64754753 0.78028693 0.43031119 0.79798933\n",
      " 0.77799174 0.72696609 0.79153288 0.8007663  0.69841394 0.74828044\n",
      " 0.72179549 0.54665391]\n"
     ]
    }
   ],
   "source": [
    "crossval(r, X_train, y_train, 3, 15)"
   ]
  },
  {
   "cell_type": "code",
   "execution_count": 40,
   "metadata": {
    "scrolled": true
   },
   "outputs": [
    {
     "name": "stdout",
     "output_type": "stream",
     "text": [
      "Raw data predictions:\n",
      "MSE: 23.551\n",
      "RMSE: 4.853\n",
      " \n",
      "Standard Scale predictions:\n",
      "MSE: 790.828\n",
      "RMSE: 28.122\n"
     ]
    }
   ],
   "source": [
    "#Ridge regression prediction\n",
    "print('Raw data predictions:')\n",
    "prediction(r, X_test, y_test)\n",
    "\n",
    "print(' ')\n",
    "\n",
    "print('Standard Scale predictions:')\n",
    "prediction(r, Xs_test, ys_test)"
   ]
  },
  {
   "cell_type": "markdown",
   "metadata": {},
   "source": [
    "# Does Gradient Boosting improve the model?"
   ]
  },
  {
   "cell_type": "code",
   "execution_count": 35,
   "metadata": {},
   "outputs": [
    {
     "name": "stdout",
     "output_type": "stream",
     "text": [
      "Raw data predictions:\n",
      "MSE: 6.684\n",
      "RMSE: 2.585\n",
      " \n",
      "Standard Scale predictions:\n",
      "MSE: 2194.911\n",
      "RMSE: 46.850\n"
     ]
    }
   ],
   "source": [
    "from sklearn.ensemble import GradientBoostingRegressor\n",
    "\n",
    "params = {'n_estimators': 500, 'max_depth': 4, 'min_samples_split': 2,\n",
    "          'learning_rate': 0.01, 'loss': 'ls'}\n",
    "gbr = GradientBoostingRegressor(**params)\n",
    "\n",
    "gbr.fit(X_train, y_train.ravel())\n",
    "\n",
    "print('Raw data predictions:')\n",
    "prediction(gbr, X_test, y_test)\n",
    "\n",
    "print(' ')\n",
    "\n",
    "print('Standard Scale predictions:')\n",
    "prediction(gbr, Xs_test, ys_test)"
   ]
  },
  {
   "cell_type": "code",
   "execution_count": null,
   "metadata": {},
   "outputs": [],
   "source": []
  }
 ],
 "metadata": {
  "kernelspec": {
   "display_name": "Python 3",
   "language": "python",
   "name": "python3"
  },
  "language_info": {
   "codemirror_mode": {
    "name": "ipython",
    "version": 3
   },
   "file_extension": ".py",
   "mimetype": "text/x-python",
   "name": "python",
   "nbconvert_exporter": "python",
   "pygments_lexer": "ipython3",
   "version": "3.7.3"
  }
 },
 "nbformat": 4,
 "nbformat_minor": 2
}
